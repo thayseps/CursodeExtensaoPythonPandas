{
  "nbformat": 4,
  "nbformat_minor": 0,
  "metadata": {
    "colab": {
      "provenance": [],
      "toc_visible": true,
      "authorship_tag": "ABX9TyP3jR/LQz5aNCGl/VNNWV4X",
      "include_colab_link": true
    },
    "kernelspec": {
      "name": "python3",
      "display_name": "Python 3"
    },
    "language_info": {
      "name": "python"
    },
    "gpuClass": "standard"
  },
  "cells": [
    {
      "cell_type": "markdown",
      "metadata": {
        "id": "view-in-github",
        "colab_type": "text"
      },
      "source": [
        "<a href=\"https://colab.research.google.com/github/thayseps/CursodeExtensaoPythonPandas/blob/main/primeiro_exemplo_de_pandas.ipynb\" target=\"_parent\"><img src=\"https://colab.research.google.com/assets/colab-badge.svg\" alt=\"Open In Colab\"/></a>"
      ]
    },
    {
      "cell_type": "code",
      "execution_count": null,
      "metadata": {
        "id": "kKBbayMHC14B"
      },
      "outputs": [],
      "source": [
        "print('Hello, world')"
      ]
    },
    {
      "cell_type": "markdown",
      "source": [
        "**Primeiro exemplo de manipulação de DADOS usando Python pandas**\n",
        "Autora: Thayse sei lá\n",
        "Data:6 de fevereiro de 2023"
      ],
      "metadata": {
        "id": "FIzEUsLvUj-4"
      }
    },
    {
      "cell_type": "code",
      "source": [
        "#Importando biblioteca pandas no python\n",
        "\n",
        "import pandas as pd\n",
        "\n",
        "combustiveis_df = pd.read_csv(\"\")\n"
      ],
      "metadata": {
        "id": "qNhFDOmyVHQU"
      },
      "execution_count": null,
      "outputs": []
    }
  ]
}